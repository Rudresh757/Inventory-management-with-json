{
 "cells": [
  {
   "cell_type": "code",
   "execution_count": 83,
   "id": "1dd40fb8-5fd9-48f5-a0d6-78e4658cac47",
   "metadata": {},
   "outputs": [
    {
     "name": "stdout",
     "output_type": "stream",
     "text": [
      "------------------Menue------------------\n",
      "\n",
      "100 : Cheez Cake | 100 | 0 |\n",
      "101 : 5 Star     | 10 | 200 |\n",
      "102 : Fruty      | 10 | 38 |\n",
      "104 : Gooday     | 20 | 80 |\n",
      "-----------------------------------------\n",
      "\n"
     ]
    },
    {
     "name": "stdin",
     "output_type": "stream",
     "text": [
      "Enter your name        :  rudresh\n",
      "Enter your no.          :  7067824794\n",
      "Enter your email        :  rudres.dixit@gmail.com\n",
      "Enter the product id  :  102\n",
      "Enter the Quentity    :  5\n"
     ]
    },
    {
     "name": "stdout",
     "output_type": "stream",
     "text": [
      "-----------------------------------------\n",
      "\n",
      "Name              :  Fruty     \n",
      "Price             :  10\n",
      "Quentity          :  5\n",
      "------------------bill--------------------\n",
      "\n",
      "Billing amount    :  50\n",
      "-----------------------------------------\n",
      "\n"
     ]
    }
   ],
   "source": [
    "import json\n",
    "import time\n",
    "fd=open('Record.json','r')\n",
    "js=fd.read()\n",
    "fd.close()\n",
    "\n",
    "record=json.loads(js)\n",
    "print(\"------------------Menue------------------\\n\")\n",
    "for key in record.keys():\n",
    "    print(key,\":\",record[key]['Name'],\"|\",record[key]['Price'],\"|\",record[key]['Quentity'],\"|\")\n",
    "\n",
    "print(\"-----------------------------------------\\n\")\n",
    "pr_n= str(input(\"Enter your name        : \"))\n",
    "pr_p=str(input(\"Enter your no.          : \"))\n",
    "pr_e=str(input(\"Enter your email        : \"))\n",
    "pr =   str(input(\"Enter the product id  : \"))\n",
    "ui_qn =int(input(\"Enter the Quantity    : \"))\n",
    "\n",
    "if ui_qn>record[pr]['Quentity']:\n",
    "    print (\"Sorry to say but we don't have enough quantity\")\n",
    "    an=str(input(\"if you want the remaining once you can answer Y or N\"))\n",
    "    if(an=='Y'):\n",
    "        ui_qn=record[pr]['Quentity']\n",
    "        record[pr]['Quentity'] = record[pr]['Quentity'] - ui_qn\n",
    "\n",
    "        print(\"-----------------------------------------\\n\")\n",
    "        print(\"Name              : \",record[pr]['Name'])\n",
    "        print(\"Price             : \",record[pr]['Price'])\n",
    "        print(\"Quentity          : \",ui_qn)\n",
    "        print(\"------------------bill--------------------\\n\")\n",
    "        print(\"Billing amount    : \",int(record[pr]['Price'])*int(ui_qn))\n",
    "        print(\"-----------------------------------------\\n\")\n",
    "\n",
    "    else:\n",
    "        print (\"Sorry for the trouble \")\n",
    "\n",
    "else:\n",
    "    record[pr]['Quentity'] = record[pr]['Quentity'] - ui_qn\n",
    "\n",
    "    print(\"-----------------------------------------\\n\")\n",
    "    print(\"Name              : \",record[pr]['Name'])\n",
    "    print(\"Price             : \",record[pr]['Price'])\n",
    "    print(\"Quentity          : \",ui_qn)\n",
    "    print(\"------------------bill--------------------\\n\")\n",
    "    print(\"Billing amount    : \",int(record[pr]['Price'])*int(ui_qn))\n",
    "    print(\"-----------------------------------------\\n\")\n",
    "\n",
    "\n",
    "sale = time.ctime()+\",\"+pr+\",\"+pr_n+\",\"+pr_p+\",\"+pr_e+\",\"+pr+\",\"+record[pr]['Name']+\",\"+str(ui_qn)\n",
    "fd=open(\"salesjson.txt\",'a')\n",
    "fd.write(sale)\n",
    "fd.close()\n",
    "\n",
    "js=json.dumps(record)\n",
    "fd=open('Record.json','w')\n",
    "fd.write(js)\n",
    "fd.close()\n",
    "\n"
   ]
  },
  {
   "cell_type": "code",
   "execution_count": 85,
   "id": "9fe09975-0b94-47d6-80d1-dc690f190a10",
   "metadata": {},
   "outputs": [
    {
     "data": {
      "text/plain": [
       "'Sat Apr  5 18:39:27 2025,102,rudresh,7067824794,rudres.dixit@gmail.com,102,Fruty     ,5'"
      ]
     },
     "execution_count": 85,
     "metadata": {},
     "output_type": "execute_result"
    }
   ],
   "source": [
    "sale\n"
   ]
  },
  {
   "cell_type": "code",
   "execution_count": null,
   "id": "c784f788-460f-46fc-b46d-24660c0057fc",
   "metadata": {},
   "outputs": [],
   "source": []
  }
 ],
 "metadata": {
  "kernelspec": {
   "display_name": "Python 3 (ipykernel)",
   "language": "python",
   "name": "python3"
  },
  "language_info": {
   "codemirror_mode": {
    "name": "ipython",
    "version": 3
   },
   "file_extension": ".py",
   "mimetype": "text/x-python",
   "name": "python",
   "nbconvert_exporter": "python",
   "pygments_lexer": "ipython3",
   "version": "3.12.4"
  }
 },
 "nbformat": 4,
 "nbformat_minor": 5
}
